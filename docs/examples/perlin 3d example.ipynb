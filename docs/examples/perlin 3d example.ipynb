{
 "cells": [
  {
   "cell_type": "markdown",
   "metadata": {},
   "source": [
    "# Perlin 3d Example"
   ]
  },
  {
   "cell_type": "markdown",
   "metadata": {},
   "source": [
    "## To run this example install the following packages\n",
    "\n",
    "```\n",
    "!pip install perlin-cupy\n",
    "!pip install matplotlib\n",
    "!pip install numpy\n",
    "!pip install imagemagick\n",
    "```"
   ]
  },
  {
   "cell_type": "markdown",
   "metadata": {},
   "source": [
    "## Import packages"
   ]
  },
  {
   "cell_type": "code",
   "execution_count": 1,
   "metadata": {},
   "outputs": [],
   "source": [
    "%matplotlib inline\n",
    "import matplotlib.pyplot as plt\n",
    "import matplotlib.animation as animation\n",
    "from matplotlib import rc\n",
    "\n",
    "from IPython.display import HTML, Image\n",
    "\n",
    "import numpy as np\n",
    "\n",
    "from perlin_cupy import (\n",
    "    generate_perlin_noise_3d, generate_fractal_noise_3d\n",
    ")"
   ]
  },
  {
   "cell_type": "markdown",
   "metadata": {},
   "source": [
    "## Generate Perlin Noise"
   ]
  },
  {
   "cell_type": "code",
   "execution_count": 4,
   "metadata": {},
   "outputs": [],
   "source": [
    "%%capture\n",
    "np.random.seed(0)\n",
    "rc('animation', html='html5')\n",
    "noise = generate_perlin_noise_3d(\n",
    "    (32, 256, 256), (1, 4, 4), tileable=(True, False, False)\n",
    ").get()\n",
    "\n",
    "fig = plt.figure()\n",
    "plt.axis('off')\n",
    "images = [\n",
    "    [plt.imshow(\n",
    "        layer, cmap='gray', interpolation='lanczos', animated=True\n",
    "    )]\n",
    "    for layer in noise\n",
    "]\n",
    "animation_3d = animation.ArtistAnimation(fig, images, interval=50, blit=True)\n",
    "animation_3d.save('animation_perlin3d.gif', writer='imagemagick', fps=60)"
   ]
  },
  {
   "cell_type": "code",
   "execution_count": 9,
   "metadata": {},
   "outputs": [
    {
     "data": {
      "text/html": [
       "<img src=\"animation_perlin3d.gif\"/>"
      ],
      "text/plain": [
       "<IPython.core.display.Image object>"
      ]
     },
     "execution_count": 9,
     "metadata": {},
     "output_type": "execute_result"
    }
   ],
   "source": [
    "Image(url='animation_perlin3d.gif')"
   ]
  },
  {
   "cell_type": "code",
   "execution_count": 12,
   "metadata": {},
   "outputs": [],
   "source": [
    "%%capture\n",
    "np.random.seed(0)\n",
    "noise = generate_fractal_noise_3d(\n",
    "    (32, 256, 256), (1, 4, 4), 4, tileable=(True, False, False)\n",
    ").get()\n",
    "\n",
    "fig = plt.figure()\n",
    "plt.axis('off')\n",
    "images = [\n",
    "    [plt.imshow(\n",
    "        layer, cmap='gray', interpolation='lanczos', animated=True\n",
    "    )]\n",
    "    for layer in noise\n",
    "]\n",
    "animation_3d = animation.ArtistAnimation(fig, images, interval=50, blit=True)\n",
    "animation_3d.save('animation_perlin_fractal3d.gif', writer='imagemagick', fps=60)"
   ]
  },
  {
   "cell_type": "code",
   "execution_count": null,
   "metadata": {},
   "outputs": [],
   "source": [
    "Image(url='animation_perlin_fractal3d.gif')"
   ]
  }
 ],
 "metadata": {
  "kernelspec": {
   "display_name": "Python 3",
   "language": "python",
   "name": "python3"
  },
  "language_info": {
   "codemirror_mode": {
    "name": "ipython",
    "version": 3
   },
   "file_extension": ".py",
   "mimetype": "text/x-python",
   "name": "python",
   "nbconvert_exporter": "python",
   "pygments_lexer": "ipython3",
   "version": "3.8.5"
  }
 },
 "nbformat": 4,
 "nbformat_minor": 4
}
